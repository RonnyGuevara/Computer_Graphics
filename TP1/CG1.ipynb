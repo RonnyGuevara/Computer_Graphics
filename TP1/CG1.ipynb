{
  "nbformat": 4,
  "nbformat_minor": 0,
  "metadata": {
    "colab": {
      "provenance": [],
      "collapsed_sections": [],
      "authorship_tag": "ABX9TyO9paut1MTtvXOD7bQih+hs",
      "include_colab_link": true
    },
    "kernelspec": {
      "name": "python3",
      "display_name": "Python 3"
    },
    "language_info": {
      "name": "python"
    }
  },
  "cells": [
    {
      "cell_type": "markdown",
      "metadata": {
        "id": "view-in-github",
        "colab_type": "text"
      },
      "source": [
        "<a href=\"https://colab.research.google.com/github/RonnyGuevara/Computer_Graphics/blob/main/TP1/CG1.ipynb\" target=\"_parent\"><img src=\"https://colab.research.google.com/assets/colab-badge.svg\" alt=\"Open In Colab\"/></a>"
      ]
    },
    {
      "cell_type": "markdown",
      "source": [
        "#Cógico JAVA"
      ],
      "metadata": {
        "id": "Vx-CPIB7rUnr"
      }
    },
    {
      "cell_type": "code",
      "execution_count": null,
      "metadata": {
        "id": "y8YR5qYoqCz4"
      },
      "outputs": [],
      "source": [
        "function drawPixel(context, x, y, color) {\n",
        "\t\tvar roundedX = Math.round(x);\n",
        "\t    var roundedY = Math.round(y);\n",
        "\t    context.fillStyle = \"#000000\";\n",
        "\t  \tcontext.fillRect(roundedX, roundedY, 1, 1);\n",
        "\t}\n",
        "\n",
        "\n",
        "\n",
        "function linea(context, x0, y0, x1, y1) {\n",
        "\tvar dx = x1 - x0;\n",
        "\tvar dy = y1 - y0;\n",
        "\n",
        "\tvar ix = 2*dx;\n",
        "\tvar iy = 2*dy;\n",
        "\n",
        "\tvar y = y0;\t\n",
        "\tvar e = iy - dx;\n",
        "\n",
        "    for (var x = x0; x <= x1; x++) {\n",
        "    \tdrawPixel(context, x, y, \"\"); \n",
        "    \tif (e>0) {\n",
        "    \t\ty = y+1;\n",
        "       \t\te = e-ix;\n",
        "    \t}\n",
        "       \te = e+iy;\n",
        "   \t}\n",
        "}\n",
        "         \n",
        "\n",
        "var canvas = document.getElementById(\"myCanvas\");\n",
        "var ctx = canvas.getContext(\"2d\");\n",
        "\n",
        "linea(ctx, 0, 0, 300, 60)\n",
        "\n",
        "\n",
        "\n",
        "ctx.font = \"25px Arial\";\n",
        "ctx.fillStyle = \"black\"\n",
        "ctx.fillText(\"La primera experiencia en Computación Gráfica\", 225, 25);\n",
        "\n",
        "\n",
        "ctx.moveTo(215, 5);\n",
        "ctx.lineTo(765, 5);\n",
        "ctx.stroke();\n",
        "\n",
        "ctx.moveTo(215, 30);\n",
        "ctx.lineTo(765, 30);\n",
        "ctx.stroke();\n",
        "\n",
        "ctx.moveTo(215, 5);\n",
        "ctx.lineTo(215, 30);\n",
        "ctx.stroke();\n",
        "\n",
        "ctx.moveTo(765, 5);\n",
        "ctx.lineTo(765, 30);\n",
        "ctx.stroke();\n",
        "\n",
        "ctx.moveTo(0, 0);\n",
        "ctx.lineTo(400, 60);\n",
        "ctx.stroke();"
      ]
    },
    {
      "cell_type": "markdown",
      "source": [
        "#Código HTML"
      ],
      "metadata": {
        "id": "xNGK63LHrYbA"
      }
    },
    {
      "cell_type": "code",
      "source": [
        "<!DOCTYPE html>\n",
        "<html>\n",
        "\n",
        "<head>\n",
        "\t<meta charset=\"utf-8\">\n",
        "\t<meta name=\"viewport\" content=\"width=device-width, initial-scale=1\">\n",
        "\t<title>Ejemplo 2. Algoritmo de Bresenham</title>\n",
        "</head>\n",
        "\n",
        "\n",
        "<body>\n",
        "\n",
        "<canvas id=\"myCanvas\" width=\"800\" height=\"400\" style=\"border:1px solid #000000;\"></canvas>\n",
        "\n",
        "\n",
        "<script type=\"text/javascript\" src=\"ej2.js\"></script>\t\n",
        "\n",
        "\n",
        "</body>\n",
        "\n",
        "</html>"
      ],
      "metadata": {
        "id": "sZJjpqpnrdQh"
      },
      "execution_count": null,
      "outputs": []
    },
    {
      "cell_type": "markdown",
      "source": [
        "##Resultado"
      ],
      "metadata": {
        "id": "-5vADognrqu8"
      }
    },
    {
      "cell_type": "markdown",
      "source": [
        "![image.png](data:image/png;base64,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)"
      ],
      "metadata": {
        "id": "kcIkBN8Arf5v"
      }
    }
  ]
}