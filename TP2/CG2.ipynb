{
  "nbformat": 4,
  "nbformat_minor": 0,
  "metadata": {
    "colab": {
      "provenance": [],
      "toc_visible": true,
      "authorship_tag": "ABX9TyNztKfsRNt62C1WsUel6QGg",
      "include_colab_link": true
    },
    "kernelspec": {
      "name": "python3",
      "display_name": "Python 3"
    },
    "language_info": {
      "name": "python"
    }
  },
  "cells": [
    {
      "cell_type": "markdown",
      "metadata": {
        "id": "view-in-github",
        "colab_type": "text"
      },
      "source": [
        "<a href=\"https://colab.research.google.com/github/RonnyGuevara/Computer_Graphics/blob/main/TP2/CG2.ipynb\" target=\"_parent\"><img src=\"https://colab.research.google.com/assets/colab-badge.svg\" alt=\"Open In Colab\"/></a>"
      ]
    },
    {
      "cell_type": "markdown",
      "source": [
        "#Código HTML"
      ],
      "metadata": {
        "id": "c8t1fiVDNWEq"
      }
    },
    {
      "cell_type": "code",
      "execution_count": null,
      "metadata": {
        "id": "oSyK2M-Bz4tN"
      },
      "outputs": [],
      "source": [
        "<doctype html>\n",
        "<html>\n",
        "\t<head>\n",
        "\t<title>PSG 2022 - Ejemplo WebGL</title>\n",
        "\n",
        "\t<!-- Estilo -->\n",
        "\t<link href=\"style.css\" rel=\"stylesheet\">\n",
        "\n",
        "\t<!-- Shaders -->\n",
        "\t<script type=\"x-shader/x-vertex\"   id=\"vertexShader\"   src=\"vertex_shader.js\">\n",
        "\tattribute vec3 pos;\n",
        "\tattribute vec4 clr;\n",
        "\t\n",
        "\tuniform mat4 trans;\n",
        "\t\n",
        "\tvarying vec4 vcolor;\n",
        "\t\n",
        "\tvoid main()\n",
        "\t{\n",
        "\t\tgl_Position = trans * vec4(pos,1);\n",
        "\t\tvcolor = clr;\n",
        "\t}\n",
        "\t</script>\n",
        "\n",
        "\t<script type=\"x-shader/x-fragment\" id=\"fragmentShader\" src=\"fragment_shader.js\">\n",
        "\tprecision mediump float;\n",
        "\n",
        "\tvarying vec4 vcolor;\n",
        "\t\n",
        "\tvoid main()\n",
        "\t{\n",
        "\t\tgl_FragColor = vcolor;\n",
        "\t}\n",
        "\t</script>\n",
        "\n",
        "\t<!-- Proyecto -->\n",
        "\t<script type=\"text/javascript\" src=\"ejemplo_webgl.js\"></script>\t\n",
        "\n",
        "\t</head>\n",
        "\n",
        "\t<body>\n",
        "\t\t<canvas id=\"mycanvas\"></canvas>\n",
        "\t</body>\n",
        "</html>\n"
      ]
    },
    {
      "cell_type": "markdown",
      "source": [
        "#Código JAVA"
      ],
      "metadata": {
        "id": "e0YeIHgPN437"
      }
    },
    {
      "cell_type": "code",
      "source": [
        "ang = 0\n",
        "\n",
        "function init()\n",
        "{\n",
        "\t/******* INICIALIZACIÓN DEL CANVAS *******/\n",
        "\t// Inicializamos el canvas y WebGL\n",
        "\tcanvas = document.getElementById(\"mycanvas\");\n",
        "\tgl     = canvas.getContext(\"webgl\");\n",
        "\n",
        "\t// Seteamos la resolución del viewport y lo ajustamos a la del canvas\n",
        "\tconst pixelRatio = window.devicePixelRatio || 1;\n",
        "\tcanvas.width     = pixelRatio * canvas.clientWidth;\n",
        "\tcanvas.height    = pixelRatio * canvas.clientHeight;\n",
        "\tgl.viewport(0, 0, canvas.width, canvas.height);\n",
        "\n",
        "\t// Inicializamos el color base (RGBA)\n",
        "\tgl.clearColor(.8, .8, .8, 1);\n",
        "\t\n",
        "\t/******* INICIALIZACIÓN DE LA ESCENA *******/\n",
        "\t// Inicialización de los buffers para los objetos de mi escena.\n",
        "\t// Este contenido podríamos modificarnlo en cualquier momento\n",
        "\t// sin necesidad de volver a crear los buffers.\n",
        "\n",
        "\t// Posiciones de los vértices\n",
        "\tvar positions = [\n",
        "\t\t 0.0,  0.8, 0,\n",
        "\t\t 0.8, -0.8, 0,\n",
        "\t\t-0.8, -0.8, 0];\n",
        "\n",
        "\t// Colores para cada vértice\t\n",
        "\tvar colors = [\n",
        "\t\t1, 0, 0, 1,\n",
        "\t\t0, 1, 0, 1,\n",
        "\t\t0, 0, 1, 1];\n",
        "\t\n",
        "\t// Creación y binding de los buffers:\n",
        "\t// Buffer para los vértices\n",
        "\tvar position_buffer = gl.createBuffer();\n",
        "\n",
        "\tgl.bindBuffer(\n",
        "\t\tgl.ARRAY_BUFFER, \n",
        "\t\tposition_buffer );\n",
        "\n",
        "\tgl.bufferData(\n",
        "\t\tgl.ARRAY_BUFFER,\n",
        "\t\tnew Float32Array(positions),\n",
        "\t\tgl.STATIC_DRAW );\n",
        "\n",
        "\t// Buffer para los colores\n",
        "\tvar color_buffer = gl.createBuffer();\n",
        "\n",
        "\tgl.bindBuffer(\n",
        "\t\tgl.ARRAY_BUFFER, \n",
        "\t\tcolor_buffer );\n",
        "\n",
        "\tgl.bufferData(\n",
        "\t\tgl.ARRAY_BUFFER,\n",
        "\t\tnew Float32Array(colors),\n",
        "\t\tgl.STATIC_DRAW );\n",
        "\t\n",
        "\t\n",
        "    /******* COMPILAMOS LOS SHADERS *******/\n",
        " \t// Compilación del vertex shader y del fragment shader.\n",
        "\t// En caso de que quisieramos cambiar el código de los shaders en algún\n",
        "\t// punto de mi aplicación, deberíamos volver a compilarlos. \n",
        "\t// Una aplicación puede tener varios shader y vincular cada uno a \n",
        "\t// diferentes objetos de la escena. \n",
        "\n",
        "\t// Vertex shader\n",
        "\tconst vs_source = document.getElementById('vertexShader').text;\n",
        "\t\n",
        "\tconst vs = gl.createShader(gl.VERTEX_SHADER);\n",
        "\tgl.shaderSource(vs, vs_source);\n",
        "\tgl.compileShader(vs);\n",
        "\n",
        "\t// Verifico que la compilación haya sido exitosa\n",
        "\tif ( ! gl.getShaderParameter(vs, gl.COMPILE_STATUS) ) \n",
        "\t{\n",
        "\t\talert( gl.getShaderInfoLog(vs) );\n",
        "\t\tgl.deleteShader(vs);\n",
        "\t}\n",
        "\n",
        "\t// Fragment shader\n",
        "\tconst fs_source = document.getElementById('fragmentShader').text;\n",
        "\n",
        "\tconst fs = gl.createShader(gl.FRAGMENT_SHADER);\n",
        "\tgl.shaderSource(fs, fs_source);\n",
        "\tgl.compileShader(fs);\n",
        "\n",
        "\t// Verifico que la compilación haya sido exitosa\n",
        "\tif ( ! gl.getShaderParameter(fs, gl.COMPILE_STATUS) ) \n",
        "\t{\n",
        "\t\talert( gl.getShaderInfoLog(fs) );\n",
        "\t\tgl.deleteShader(fs);\n",
        "\t}\n",
        "\t\n",
        "\t// Creo mi \"programa\" con ambos shaders compilados\n",
        "\tprog = gl.createProgram();\n",
        "\tgl.attachShader(prog, vs);\n",
        "\tgl.attachShader(prog, fs);\n",
        "\tgl.linkProgram(prog);\n",
        "\n",
        "\t// Verifico si el link fue exitoso\n",
        "\tif ( ! gl.getProgramParameter(prog, gl.LINK_STATUS) ) \n",
        "\t{\n",
        "\t\talert( gl.getProgramInfoLog(prog) );\n",
        "\t}\n",
        "\t\n",
        "\t\n",
        "    /******* SETEAMOS LAS VARIABLES UNIFORMES  *******/\n",
        "  \t// Actualizamos las variables uniformes para los shaders. \n",
        "\t// Antes de reenderizar la escena, es necesario setear las variables\n",
        "\t// uniformes. Estas variables las podemos actualizar todas las veces\n",
        "\t// que lo necesitemos. \n",
        "\n",
        "\tvar m = gl.getUniformLocation(prog,'trans');\n",
        "\n",
        "\n",
        "\t// CUIDADO que la matriz se sube column-major\n",
        "\tang = ang + 0.1\n",
        "\tvar matrix = [\n",
        "\t\t1 ,  0,   0,  0,\n",
        "\t\t0,   1,   0,  0,\n",
        "\t\t0,   0,   1,  0,\n",
        "\t\t0,   0,   0,  1 ];\n",
        "\n",
        "\n",
        "\t\t// var matrix = [\n",
        "\t\t// 0.5 ,  0,   0,  0,\n",
        "\t\t// 0,   0.2,   0,  0,\n",
        "\t\t// 0,   0,   1,  0,\n",
        "\t\t// 0,   0,   0,  1 ];\n",
        "\n",
        "\tgl.useProgram(prog);\n",
        "\tgl.uniformMatrix4fv( m, false, matrix );\n",
        "\t\n",
        "\t\n",
        "    /******* LINKEAMOS LOS BUFFERS DE LA ESCENA  *******/\n",
        "\t// Linkeamos los buffers que son necesarios para el rendering.\n",
        "\t// Antes de reenderizar, especificamos los buffers de vértices y \n",
        "\t// de sus atributos. Es posible usar buffers diferentes para objetos\n",
        "\t// diferentes, cada uno con su propio set de atributos. \n",
        "\n",
        "\t// Link atributo posición\n",
        "\tvar p = gl.getAttribLocation(prog, 'pos');\n",
        "\tgl.bindBuffer(gl.ARRAY_BUFFER, position_buffer);\n",
        "\tgl.vertexAttribPointer(p, 3, gl.FLOAT, false, 0, 0);\n",
        "\tgl.enableVertexAttribArray(p);\n",
        "\n",
        "\t// Link atributo color\n",
        "\tvar c = gl.getAttribLocation(prog, 'clr');\n",
        "\tgl.bindBuffer(gl.ARRAY_BUFFER, color_buffer);\n",
        "\tgl.vertexAttribPointer(c, 4, gl.FLOAT, false, 0, 0);\n",
        "\tgl.enableVertexAttribArray(c);\n",
        "\n",
        "\n",
        "        /******* REENDERIZAMOS  *******/\n",
        "\t// Ahora que ya está todo seteado, renderizamos la escena. \n",
        "\t// El primer paso es siempre limpiar la imagen. \n",
        "\t// Cada vez que cambie la escena, tenemos que reenderizar nuevamente. \n",
        "\tgl.clear( gl.COLOR_BUFFER_BIT );\n",
        "\tgl.useProgram( prog );\n",
        "\tgl.drawArrays( gl.TRIANGLES, 0, 3 );\n",
        "\n",
        "}\n",
        "\n",
        "window.onload = init"
      ],
      "metadata": {
        "id": "jOX28ne8Nkor"
      },
      "execution_count": null,
      "outputs": []
    },
    {
      "cell_type": "markdown",
      "source": [
        "#Resultado"
      ],
      "metadata": {
        "id": "FQZBIiBROArb"
      }
    },
    {
      "cell_type": "markdown",
      "source": [
        "![image.png](data:image/png;base64,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)"
      ],
      "metadata": {
        "id": "cKhdLUAeOD2E"
      }
    },
    {
      "cell_type": "markdown",
      "source": [
        "##Rotemos y traslademos la gráfica"
      ],
      "metadata": {
        "id": "xvJWLAGZOQl0"
      }
    },
    {
      "cell_type": "code",
      "source": [
        "#Matriz de rotacion y traslación\n",
        "\tvar matrix = [\n",
        "       0.5 ,  0,   0,  -1,\n",
        "\t\t    0,   0.2,   0,  -1,\n",
        "\t\t    0,   0,   1,  0,\n",
        "\t\t    0,   0,   0,  1 ];"
      ],
      "metadata": {
        "id": "6u_WRc-7OCin"
      },
      "execution_count": null,
      "outputs": []
    },
    {
      "cell_type": "markdown",
      "source": [
        "![image.png](data:image/png;base64,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)"
      ],
      "metadata": {
        "id": "LZz0jFc3N-ds"
      }
    }
  ]
}